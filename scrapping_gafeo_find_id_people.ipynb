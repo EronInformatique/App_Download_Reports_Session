{
 "cells": [
  {
   "cell_type": "code",
   "execution_count": 1,
   "metadata": {},
   "outputs": [],
   "source": [
    "import asyncio\n",
    "from selenium import webdriver\n",
    "from selenium.webdriver.support.ui import Select, WebDriverWait\n",
    "from selenium.webdriver.chrome.options import Options\n",
    "from selenium.webdriver.common.by import By\n",
    "from selenium.webdriver.common.keys import Keys\n",
    "from selenium.webdriver.support import expected_conditions as EC\n"
   ]
  },
  {
   "cell_type": "code",
   "execution_count": 2,
   "metadata": {},
   "outputs": [
    {
     "name": "stderr",
     "output_type": "stream",
     "text": [
      "/var/folders/9g/9qptqtl550vchpg029w9bzjr0000gn/T/ipykernel_1928/4200591417.py:7: DeprecationWarning: executable_path has been deprecated, please pass in a Service object\n",
      "  browser = webdriver.Chrome(options= options, executable_path=PATH)\n"
     ]
    },
    {
     "ename": "InvalidSelectorException",
     "evalue": "Message: invalid selector: An invalid or illegal selector was specified\n  (Session info: chrome=97.0.4692.99)\nStacktrace:\n0   chromedriver                        0x000000010ac4de69 chromedriver + 5160553\n1   chromedriver                        0x000000010abd8593 chromedriver + 4679059\n2   chromedriver                        0x000000010a78c2c8 chromedriver + 172744\n3   chromedriver                        0x000000010a78f141 chromedriver + 184641\n4   chromedriver                        0x000000010a78ef61 chromedriver + 184161\n5   chromedriver                        0x000000010a78f1fc chromedriver + 184828\n6   chromedriver                        0x000000010a7c1876 chromedriver + 391286\n7   chromedriver                        0x000000010a7c1d21 chromedriver + 392481\n8   chromedriver                        0x000000010a7f4341 chromedriver + 598849\n9   chromedriver                        0x000000010a7df3fd chromedriver + 513021\n10  chromedriver                        0x000000010a7f20ab chromedriver + 589995\n11  chromedriver                        0x000000010a7df623 chromedriver + 513571\n12  chromedriver                        0x000000010a7b4dce chromedriver + 339406\n13  chromedriver                        0x000000010a7b6105 chromedriver + 344325\n14  chromedriver                        0x000000010ac0923e chromedriver + 4878910\n15  chromedriver                        0x000000010ac20d17 chromedriver + 4975895\n16  chromedriver                        0x000000010ac26a3f chromedriver + 4999743\n17  chromedriver                        0x000000010ac2161a chromedriver + 4978202\n18  chromedriver                        0x000000010abfdbb1 chromedriver + 4832177\n19  chromedriver                        0x000000010ac3dfd8 chromedriver + 5095384\n20  chromedriver                        0x000000010ac3e161 chromedriver + 5095777\n21  chromedriver                        0x000000010ac552a8 chromedriver + 5190312\n22  libsystem_pthread.dylib             0x00007ff8091c84f4 _pthread_start + 125\n23  libsystem_pthread.dylib             0x00007ff8091c400f thread_start + 15\n",
     "output_type": "error",
     "traceback": [
      "\u001b[0;31m---------------------------------------------------------------------------\u001b[0m",
      "\u001b[0;31mInvalidSelectorException\u001b[0m                  Traceback (most recent call last)",
      "Input \u001b[0;32mIn [2]\u001b[0m, in \u001b[0;36m<module>\u001b[0;34m\u001b[0m\n\u001b[1;32m     25\u001b[0m         browser\u001b[38;5;241m.\u001b[39mfind_element(By\u001b[38;5;241m.\u001b[39mLINK_TEXT,name)\u001b[38;5;241m.\u001b[39mclick()\n\u001b[1;32m     27\u001b[0m elements \u001b[38;5;241m=\u001b[39m browser\u001b[38;5;241m.\u001b[39mfind_elements(By\u001b[38;5;241m.\u001b[39mXPATH,\u001b[38;5;124m'\u001b[39m\u001b[38;5;124m//*[@href]\u001b[39m\u001b[38;5;124m'\u001b[39m)\n\u001b[0;32m---> 28\u001b[0m elements_by_css \u001b[38;5;241m=\u001b[39m \u001b[43mbrowser\u001b[49m\u001b[38;5;241;43m.\u001b[39;49m\u001b[43mfind_elements\u001b[49m\u001b[43m(\u001b[49m\u001b[43mBy\u001b[49m\u001b[38;5;241;43m.\u001b[39;49m\u001b[43mCSS_SELECTOR\u001b[49m\u001b[43m,\u001b[49m\u001b[38;5;124;43m'\u001b[39;49m\u001b[38;5;124;43m./child::*[href]\u001b[39;49m\u001b[38;5;124;43m'\u001b[39;49m\u001b[43m)\u001b[49m\n\u001b[1;32m     29\u001b[0m \u001b[38;5;66;03m# elements[42].click() WORKS donwload csv\u001b[39;00m\n\u001b[1;32m     30\u001b[0m \u001b[38;5;66;03m# print(WebDriverWait(browser, 20).until(EC.visibility_of_element_located((By.CSS_SELECTOR, \"li.list-group-item  > a[href]\"))).get_attribute(\"href\"))\u001b[39;00m\n\u001b[1;32m     31\u001b[0m browser\u001b[38;5;241m.\u001b[39mquit()\n",
      "File \u001b[0;32m~/miniconda3/envs/scrapping-env/lib/python3.10/site-packages/selenium/webdriver/remote/webdriver.py:1279\u001b[0m, in \u001b[0;36mWebDriver.find_elements\u001b[0;34m(self, by, value)\u001b[0m\n\u001b[1;32m   1275\u001b[0m     value \u001b[38;5;241m=\u001b[39m \u001b[38;5;124m'\u001b[39m\u001b[38;5;124m[name=\u001b[39m\u001b[38;5;124m\"\u001b[39m\u001b[38;5;132;01m%s\u001b[39;00m\u001b[38;5;124m\"\u001b[39m\u001b[38;5;124m]\u001b[39m\u001b[38;5;124m'\u001b[39m \u001b[38;5;241m%\u001b[39m value\n\u001b[1;32m   1277\u001b[0m \u001b[38;5;66;03m# Return empty list if driver returns null\u001b[39;00m\n\u001b[1;32m   1278\u001b[0m \u001b[38;5;66;03m# See https://github.com/SeleniumHQ/selenium/issues/4555\u001b[39;00m\n\u001b[0;32m-> 1279\u001b[0m \u001b[38;5;28;01mreturn\u001b[39;00m \u001b[38;5;28;43mself\u001b[39;49m\u001b[38;5;241;43m.\u001b[39;49m\u001b[43mexecute\u001b[49m\u001b[43m(\u001b[49m\u001b[43mCommand\u001b[49m\u001b[38;5;241;43m.\u001b[39;49m\u001b[43mFIND_ELEMENTS\u001b[49m\u001b[43m,\u001b[49m\u001b[43m \u001b[49m\u001b[43m{\u001b[49m\n\u001b[1;32m   1280\u001b[0m \u001b[43m    \u001b[49m\u001b[38;5;124;43m'\u001b[39;49m\u001b[38;5;124;43musing\u001b[39;49m\u001b[38;5;124;43m'\u001b[39;49m\u001b[43m:\u001b[49m\u001b[43m \u001b[49m\u001b[43mby\u001b[49m\u001b[43m,\u001b[49m\n\u001b[1;32m   1281\u001b[0m \u001b[43m    \u001b[49m\u001b[38;5;124;43m'\u001b[39;49m\u001b[38;5;124;43mvalue\u001b[39;49m\u001b[38;5;124;43m'\u001b[39;49m\u001b[43m:\u001b[49m\u001b[43m \u001b[49m\u001b[43mvalue\u001b[49m\u001b[43m}\u001b[49m\u001b[43m)\u001b[49m[\u001b[38;5;124m'\u001b[39m\u001b[38;5;124mvalue\u001b[39m\u001b[38;5;124m'\u001b[39m] \u001b[38;5;129;01mor\u001b[39;00m []\n",
      "File \u001b[0;32m~/miniconda3/envs/scrapping-env/lib/python3.10/site-packages/selenium/webdriver/remote/webdriver.py:424\u001b[0m, in \u001b[0;36mWebDriver.execute\u001b[0;34m(self, driver_command, params)\u001b[0m\n\u001b[1;32m    422\u001b[0m response \u001b[38;5;241m=\u001b[39m \u001b[38;5;28mself\u001b[39m\u001b[38;5;241m.\u001b[39mcommand_executor\u001b[38;5;241m.\u001b[39mexecute(driver_command, params)\n\u001b[1;32m    423\u001b[0m \u001b[38;5;28;01mif\u001b[39;00m response:\n\u001b[0;32m--> 424\u001b[0m     \u001b[38;5;28;43mself\u001b[39;49m\u001b[38;5;241;43m.\u001b[39;49m\u001b[43merror_handler\u001b[49m\u001b[38;5;241;43m.\u001b[39;49m\u001b[43mcheck_response\u001b[49m\u001b[43m(\u001b[49m\u001b[43mresponse\u001b[49m\u001b[43m)\u001b[49m\n\u001b[1;32m    425\u001b[0m     response[\u001b[38;5;124m'\u001b[39m\u001b[38;5;124mvalue\u001b[39m\u001b[38;5;124m'\u001b[39m] \u001b[38;5;241m=\u001b[39m \u001b[38;5;28mself\u001b[39m\u001b[38;5;241m.\u001b[39m_unwrap_value(\n\u001b[1;32m    426\u001b[0m         response\u001b[38;5;241m.\u001b[39mget(\u001b[38;5;124m'\u001b[39m\u001b[38;5;124mvalue\u001b[39m\u001b[38;5;124m'\u001b[39m, \u001b[38;5;28;01mNone\u001b[39;00m))\n\u001b[1;32m    427\u001b[0m     \u001b[38;5;28;01mreturn\u001b[39;00m response\n",
      "File \u001b[0;32m~/miniconda3/envs/scrapping-env/lib/python3.10/site-packages/selenium/webdriver/remote/errorhandler.py:247\u001b[0m, in \u001b[0;36mErrorHandler.check_response\u001b[0;34m(self, response)\u001b[0m\n\u001b[1;32m    245\u001b[0m         alert_text \u001b[38;5;241m=\u001b[39m value[\u001b[38;5;124m'\u001b[39m\u001b[38;5;124malert\u001b[39m\u001b[38;5;124m'\u001b[39m]\u001b[38;5;241m.\u001b[39mget(\u001b[38;5;124m'\u001b[39m\u001b[38;5;124mtext\u001b[39m\u001b[38;5;124m'\u001b[39m)\n\u001b[1;32m    246\u001b[0m     \u001b[38;5;28;01mraise\u001b[39;00m exception_class(message, screen, stacktrace, alert_text)  \u001b[38;5;66;03m# type: ignore[call-arg]  # mypy is not smart enough here\u001b[39;00m\n\u001b[0;32m--> 247\u001b[0m \u001b[38;5;28;01mraise\u001b[39;00m exception_class(message, screen, stacktrace)\n",
      "\u001b[0;31mInvalidSelectorException\u001b[0m: Message: invalid selector: An invalid or illegal selector was specified\n  (Session info: chrome=97.0.4692.99)\nStacktrace:\n0   chromedriver                        0x000000010ac4de69 chromedriver + 5160553\n1   chromedriver                        0x000000010abd8593 chromedriver + 4679059\n2   chromedriver                        0x000000010a78c2c8 chromedriver + 172744\n3   chromedriver                        0x000000010a78f141 chromedriver + 184641\n4   chromedriver                        0x000000010a78ef61 chromedriver + 184161\n5   chromedriver                        0x000000010a78f1fc chromedriver + 184828\n6   chromedriver                        0x000000010a7c1876 chromedriver + 391286\n7   chromedriver                        0x000000010a7c1d21 chromedriver + 392481\n8   chromedriver                        0x000000010a7f4341 chromedriver + 598849\n9   chromedriver                        0x000000010a7df3fd chromedriver + 513021\n10  chromedriver                        0x000000010a7f20ab chromedriver + 589995\n11  chromedriver                        0x000000010a7df623 chromedriver + 513571\n12  chromedriver                        0x000000010a7b4dce chromedriver + 339406\n13  chromedriver                        0x000000010a7b6105 chromedriver + 344325\n14  chromedriver                        0x000000010ac0923e chromedriver + 4878910\n15  chromedriver                        0x000000010ac20d17 chromedriver + 4975895\n16  chromedriver                        0x000000010ac26a3f chromedriver + 4999743\n17  chromedriver                        0x000000010ac2161a chromedriver + 4978202\n18  chromedriver                        0x000000010abfdbb1 chromedriver + 4832177\n19  chromedriver                        0x000000010ac3dfd8 chromedriver + 5095384\n20  chromedriver                        0x000000010ac3e161 chromedriver + 5095777\n21  chromedriver                        0x000000010ac552a8 chromedriver + 5190312\n22  libsystem_pthread.dylib             0x00007ff8091c84f4 _pthread_start + 125\n23  libsystem_pthread.dylib             0x00007ff8091c400f thread_start + 15\n"
     ]
    }
   ],
   "source": [
    "\n",
    "# async def main():\n",
    "options = Options()\n",
    "options.binary_location = \"/Applications/Internet/Google Chrome.app/Contents/MacOS/Google Chrome\"\n",
    "\n",
    "PATH=\"/Applications/chromedriver\"\n",
    "\n",
    "browser = webdriver.Chrome(options= options, executable_path=PATH)\n",
    "browser.get(\"https://www.gafeo.fr/admin/tool/reportsessions/index.php\")\n",
    "browser.find_element(By.ID,'username').send_keys(\"andria.c@eronservice.fr\")\n",
    "browser.find_element(By.ID,'password').send_keys(\"Andria-2021!\")\n",
    "browser.find_element(By.CSS_SELECTOR,\"button.btn-primary\").click()\n",
    "\n",
    "namesList = []\n",
    "formation_session_dropdown =  Select(browser.find_element(By.CLASS_NAME,\"formation_session\"))\n",
    "formation_session_dropdown.select_by_value(\"427\")\n",
    "\n",
    "await asyncio.sleep(10)   \n",
    "group_session_dropdown =  Select(browser.find_element(By.CLASS_NAME,\"group_session\"))\n",
    "group_session_dropdown.select_by_value(\"1478\")\n",
    "\n",
    "await asyncio.sleep(2) \n",
    "elems = browser.find_element(By.CLASS_NAME,'contenu').find_elements(By.TAG_NAME,'a')\n",
    "namesList = [elem.accessible_name for elem in elems]\n",
    "for name in  namesList :\n",
    "        browser.find_element(By.LINK_TEXT,name).click()\n",
    "\n",
    "elements = browser.find_elements(By.XPATH,'//*[@href]')\n",
    "elements_by_css = browser.find_elements(By.CSS_SELECTOR,'./child::*[href]')\n",
    "# elements[42].click() WORKS donwload csv\n",
    "# print(WebDriverWait(browser, 20).until(EC.visibility_of_element_located((By.CSS_SELECTOR, \"li.list-group-item  > a[href]\"))).get_attribute(\"href\"))\n",
    "browser.quit()\n",
    "# await main()\n"
   ]
  }
 ],
 "metadata": {
  "interpreter": {
   "hash": "83ff18a224e78cb0259d5762300b61f5bd5480c621c2219f2ad7396e11db8a9d"
  },
  "kernelspec": {
   "display_name": "Python 3.10.0 64-bit ('scrapping-env': conda)",
   "language": "python",
   "name": "python3"
  },
  "language_info": {
   "codemirror_mode": {
    "name": "ipython",
    "version": 3
   },
   "file_extension": ".py",
   "mimetype": "text/x-python",
   "name": "python",
   "nbconvert_exporter": "python",
   "pygments_lexer": "ipython3",
   "version": "3.10.0"
  },
  "orig_nbformat": 4
 },
 "nbformat": 4,
 "nbformat_minor": 2
}
